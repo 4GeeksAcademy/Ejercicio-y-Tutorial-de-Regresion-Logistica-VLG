{
 "cells": [
  {
   "cell_type": "markdown",
   "metadata": {},
   "source": [
    "# Explore here"
   ]
  },
  {
   "cell_type": "code",
   "execution_count": 31,
   "metadata": {},
   "outputs": [
    {
     "name": "stdout",
     "output_type": "stream",
     "text": [
      "Contamos con 41188 cantidad de datos y 21 atributos.\n",
      "\n",
      "Contamos con 12 datos duplicados\n",
      "\n",
      "<class 'pandas.core.frame.DataFrame'>\n",
      "Index: 41176 entries, 0 to 41187\n",
      "Data columns (total 21 columns):\n",
      " #   Column          Non-Null Count  Dtype  \n",
      "---  ------          --------------  -----  \n",
      " 0   age             41176 non-null  int64  \n",
      " 1   job             41176 non-null  object \n",
      " 2   marital         41176 non-null  object \n",
      " 3   education       41176 non-null  object \n",
      " 4   default         41176 non-null  object \n",
      " 5   housing         41176 non-null  object \n",
      " 6   loan            41176 non-null  object \n",
      " 7   contact         41176 non-null  object \n",
      " 8   month           41176 non-null  object \n",
      " 9   day_of_week     41176 non-null  object \n",
      " 10  duration        41176 non-null  int64  \n",
      " 11  campaign        41176 non-null  int64  \n",
      " 12  pdays           41176 non-null  int64  \n",
      " 13  previous        41176 non-null  int64  \n",
      " 14  poutcome        41176 non-null  object \n",
      " 15  emp.var.rate    41176 non-null  float64\n",
      " 16  cons.price.idx  41176 non-null  float64\n",
      " 17  cons.conf.idx   41176 non-null  float64\n",
      " 18  euribor3m       41176 non-null  float64\n",
      " 19  nr.employed     41176 non-null  float64\n",
      " 20  y               41176 non-null  object \n",
      "dtypes: float64(5), int64(5), object(11)\n",
      "memory usage: 6.9+ MB\n"
     ]
    }
   ],
   "source": [
    "import pandas as pd\n",
    "import numpy as np\n",
    "\n",
    "import matplotlib.pyplot as plt\n",
    "import seaborn as sns\n",
    "\n",
    "from sklearn.model_selection import train_test_split\n",
    "\n",
    "# modelado\n",
    "from sklearn.linear_model import LogisticRegression\n",
    "\n",
    "# metricas\n",
    "from sklearn.metrics import accuracy_score\n",
    "from sklearn.metrics import confusion_matrix\n",
    "\n",
    "# optimizar\n",
    "from sklearn.model_selection import GridSearchCV\n",
    "from sklearn.model_selection import RandomizedSearchCV\n",
    "\n",
    "archivo= \"https://raw.githubusercontent.com/4GeeksAcademy/logistic-regression-project-tutorial/main/bank-marketing-campaign-data.csv\"\n",
    "\n",
    "df_original = pd.read_csv(archivo, sep=\";\")\n",
    "df = pd.read_csv(archivo, sep=\";\")\n",
    "\n",
    "\n",
    "datos,atributos=df.shape\n",
    "print(f\"Contamos con {datos} cantidad de datos y {atributos} atributos.\")\n",
    "print()\n",
    "\n",
    "# Valores duplicados\n",
    "\n",
    "duplicados = df.duplicated()\n",
    "num_duplicados = duplicados.sum()\n",
    "\n",
    "print(f\"Contamos con {num_duplicados} datos duplicados\")\n",
    "print()\n",
    "\n",
    "df_duplicados = df[duplicados]\n",
    "\n",
    "df_sin_duplicados = df.drop_duplicates()\n",
    "\n",
    "df=df_sin_duplicados\n",
    "\n",
    "# Obtener información sobre tipos de datos y valores no nulos\n",
    "df.info()\n",
    "\n",
    "\n"
   ]
  },
  {
   "cell_type": "markdown",
   "metadata": {},
   "source": [
    "- Contamos con 41.188 datos de clientes y 21 atributos.\n",
    "- 12 datos de clientes están duplicados. Al eliminarlos resulta un total de 41.176.\n",
    "- Ninguno de los atributos posee valores nulos.\n",
    "- 10 características son numéricas y 11 características son categóricas. En esta última se encuentra nuestra variable a predecir."
   ]
  },
  {
   "cell_type": "markdown",
   "metadata": {},
   "source": [
    "### Selección de atributos relevantes:\n",
    "\n",
    "Los siguientes atributos no aportan información a nuestra variable a predecir:\n",
    "- contact\n",
    "- month\n",
    "- day_of_week"
   ]
  },
  {
   "cell_type": "code",
   "execution_count": null,
   "metadata": {},
   "outputs": [
    {
     "name": "stdout",
     "output_type": "stream",
     "text": [
      "Contamos con 12 datos duplicados\n"
     ]
    }
   ],
   "source": [
    "\n",
    "\n",
    "\n",
    "\n",
    "\n",
    "\n"
   ]
  }
 ],
 "metadata": {
  "kernelspec": {
   "display_name": "Python 3",
   "language": "python",
   "name": "python3"
  },
  "language_info": {
   "codemirror_mode": {
    "name": "ipython",
    "version": 3
   },
   "file_extension": ".py",
   "mimetype": "text/x-python",
   "name": "python",
   "nbconvert_exporter": "python",
   "pygments_lexer": "ipython3",
   "version": "3.10.12"
  },
  "orig_nbformat": 4
 },
 "nbformat": 4,
 "nbformat_minor": 2
}
